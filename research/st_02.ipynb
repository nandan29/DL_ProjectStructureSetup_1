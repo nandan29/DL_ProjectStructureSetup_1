{
 "cells": [
  {
   "cell_type": "code",
   "execution_count": null,
   "metadata": {},
   "outputs": [],
   "source": []
  }
 ],
 "metadata": {
  "kernelspec": {
   "display_name": "Python 3.8.13 (conda)",
   "language": "python",
   "name": "python3"
  },
  "language_info": {
   "name": "python",
   "version": "3.8.13"
  },
  "orig_nbformat": 4,
  "vscode": {
   "interpreter": {
    "hash": "7f2ef9fafa38e9e88a31b6732d1a6199cca32e90a6ab2845863e58ac5178d012"
   }
  }
 },
 "nbformat": 4,
 "nbformat_minor": 2
}
